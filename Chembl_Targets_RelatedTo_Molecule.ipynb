{
 "cells": [
  {
   "cell_type": "code",
   "execution_count": null,
   "metadata": {},
   "outputs": [],
   "source": [
    "import requests\n",
    "import json\n",
    "from chembl_webresource_client.new_client import new_client"
   ]
  },
  {
   "cell_type": "code",
   "execution_count": null,
   "metadata": {},
   "outputs": [],
   "source": [
    "query_payload = '''{\n",
    "  \"size\": 24,\n",
    "  \"from\": 0,\n",
    "  \"_source\": [\n",
    "    \"target_chembl_id\"\n",
    "  ],\n",
    "  \"query\": {\n",
    "    \"bool\": {\n",
    "      \"must\": [\n",
    "        {\n",
    "          \"query_string\": {\n",
    "            \"analyze_wildcard\": true,\n",
    "            \"query\": \"_metadata.related_compounds.all_chembl_ids:(\\\\\"CHEMBL866\\\\\")\"\n",
    "          }\n",
    "        }\n",
    "      ],\n",
    "      \"filter\": []\n",
    "    }\n",
    "  },\n",
    "  \"track_total_hits\": true,\n",
    "  \"sort\": []\n",
    "}\n",
    "'''\n",
    "headers = {'Content-Type': 'application/json'}"
   ]
  },
  {
   "cell_type": "code",
   "execution_count": null,
   "metadata": {},
   "outputs": [],
   "source": [
    "#This function modifies the json payload above, sets the queried chembl id to the passed in \n",
    "# @param chebml. We cannot search for targets related to a compound through the \"chembl_webresource_client\"\n",
    "# package as our query involves metadata on compounds which is not accessible through that package.\n",
    "def chemblQuery(chembl):\n",
    "    payload = json.loads(query_payload)\n",
    "    payload['query']['bool']['must'][0]['query_string']['query'] = f'_metadata.related_compounds.all_chembl_ids:(\"{chembl}\")'\n",
    "    \n",
    "    #Run the target search query against CHEMBL's public API. Sends the header\n",
    "    r = requests.post(\"https://www.ebi.ac.uk/chembl/elk/es/chembl_target/_search\",headers=headers,data=json.dumps(payload))\n",
    "    \n",
    "    #Extracts the CHEMBL ids from the query we sent.\n",
    "    #print(r.json())\n",
    "    hits = r.json()['hits']['hits']\n",
    "    \n",
    "    #For every CHEMBL from our query, isolate just the CHEMBL id, return these chembl ids as a list.\n",
    "    hits = [x['_source']['target_chembl_id'] for x in hits]\n",
    "\n",
    "    return hits"
   ]
  },
  {
   "cell_type": "code",
   "execution_count": null,
   "metadata": {},
   "outputs": [],
   "source": [
    "chembl_idxs = chemblQuery(\"CHEMBL866\")\n",
    "for chembl_idx in chembl_idxs:\n",
    "    print(f\"CHEMBL IDX: {chembl_idx}\")"
   ]
  },
  {
   "cell_type": "code",
   "execution_count": null,
   "metadata": {},
   "outputs": [],
   "source": []
  },
  {
   "cell_type": "code",
   "execution_count": null,
   "metadata": {},
   "outputs": [],
   "source": [
    "for chembl_idx in chembl_idxs:\n",
    "    target = new_client.target.filter(target_chembl_id=chembl_idx)\n",
    "    print(f\"Response from chembl_webresource_client on {chembl_idx}\")\n",
    "    print(target)"
   ]
  },
  {
   "cell_type": "code",
   "execution_count": null,
   "metadata": {},
   "outputs": [],
   "source": []
  }
 ],
 "metadata": {
  "kernelspec": {
   "display_name": "Python 3",
   "language": "python",
   "name": "python3"
  },
  "language_info": {
   "codemirror_mode": {
    "name": "ipython",
    "version": 3
   },
   "file_extension": ".py",
   "mimetype": "text/x-python",
   "name": "python",
   "nbconvert_exporter": "python",
   "pygments_lexer": "ipython3",
   "version": "3.8.5"
  }
 },
 "nbformat": 4,
 "nbformat_minor": 2
}
